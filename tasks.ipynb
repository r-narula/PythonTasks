{
 "metadata": {
  "language_info": {
   "codemirror_mode": {
    "name": "ipython",
    "version": 3
   },
   "file_extension": ".py",
   "mimetype": "text/x-python",
   "name": "python",
   "nbconvert_exporter": "python",
   "pygments_lexer": "ipython3",
   "version": "3.8.2"
  },
  "orig_nbformat": 4,
  "kernelspec": {
   "name": "python3",
   "display_name": "Python 3.8.2 64-bit ('env': venv)"
  },
  "interpreter": {
   "hash": "fbff24fc52c6249daaca4a7f9d177aa1f4c5fae3f3873bbfd3965ff7388fb6a2"
  }
 },
 "nbformat": 4,
 "nbformat_minor": 2,
 "cells": [
  {
   "source": [
    "## Task 1"
   ],
   "cell_type": "markdown",
   "metadata": {}
  },
  {
   "cell_type": "code",
   "execution_count": 32,
   "metadata": {},
   "outputs": [
    {
     "output_type": "stream",
     "name": "stdout",
     "text": [
      "(1, 'Engineering and Tech', 'A101', 100) (3, 'Marketing And Communications', 'C103', 120)\nTotal employees: 220\n"
     ]
    }
   ],
   "source": [
    "import sqlite3\n",
    "import os\n",
    "\n",
    "try:\n",
    "    os.remove('company_details.db')\n",
    "except FileNotFoundError:\n",
    "    pass\n",
    "\n",
    "connection = sqlite3.connect(\"company_details.db\")\n",
    "\n",
    "# create cursor\n",
    "cursor = connection.cursor()\n",
    "\n",
    "# create tables and reference foreign keys.\n",
    "cursor.execute(\"CREATE TABLE DEPARTMENT (id INTEGER, name TEXT, company_code TEXT,total_employees INTEGER, PRIMARY KEY(company_code))\")\n",
    "cursor.execute(\"CREATE TABLE COMPANY(company_code TEXT,name TEXT,country TEXT,total_employees INTEGER,FOREIGN KEY(company_code) REFERENCES Department(company_code))\")\n",
    "\n",
    "# Inserting into Company..\n",
    "cursor.execute(\"INSERT INTO COMPANY VALUES('A101','GOOGLE','India',500)\")\n",
    "cursor.execute(\"INSERT INTO COMPANY VALUES('B102','MICROSOFT','Australia',1000)\")\n",
    "cursor.execute(\"INSERT INTO COMPANY VALUES('C103','GOOGLE','India',250)\")\n",
    "cursor.execute(\"INSERT INTO COMPANY VALUES('D104','MICROSOFT','Australia',600)\")\n",
    "cursor.execute(\"INSERT INTO COMPANY VALUES('E105','KPMG','Netherlands',100)\")\n",
    "\n",
    "## Inserting into Department\n",
    "cursor.execute(\"INSERT INTO  DEPARTMENT VALUES(1,'Engineering and Tech',        'A101',100)\")\n",
    "cursor.execute(\"INSERT INTO  DEPARTMENT VALUES(2,'Sales, Service and Support',  'B102',110)\")\n",
    "cursor.execute(\"INSERT INTO  DEPARTMENT VALUES(3,'Marketing And Communications','C103',120)\")\n",
    "cursor.execute(\"INSERT INTO  DEPARTMENT VALUES(4,'Business Strategy',           'D104',130)\")\n",
    "cursor.execute(\"INSERT INTO  DEPARTMENT VALUES(5,'Marketing And Communication', 'E105',140)\")\n",
    "connection.commit()\n",
    "\n",
    "# Query..\n",
    "def query_all(country):\n",
    "    a = cursor.execute(\"SELECT * FROM DEPARTMENT WHERE company_code IN (SELECT company_code FROM COMPANY WHERE country='India');\")\n",
    "    a = cursor.fetchall()\n",
    "\n",
    "    return a\n",
    "\n",
    "print(*query_all('India'))\n",
    "\n",
    "def query_sum(country):\n",
    "    a = cursor.execute(f\"SELECT SUM(total_employees) FROM DEPARTMENT WHERE company_code IN (SELECT company_code FROM COMPANY WHERE country='{country}');\")\n",
    "    a = cursor.fetchone()\n",
    "    return a\n",
    "\n",
    "print(f\"Total employees: {query_sum('India')[0]}\")"
   ]
  },
  {
   "source": [
    "## Task 2"
   ],
   "cell_type": "markdown",
   "metadata": {}
  },
  {
   "cell_type": "code",
   "execution_count": 35,
   "metadata": {},
   "outputs": [
    {
     "output_type": "stream",
     "name": "stdout",
     "text": [
      "A red-colored car with a maximum speed of 200 km/h is priced at 500000 with 6 tires\n"
     ]
    }
   ],
   "source": [
    "class Vehicle:\n",
    "    def __init__(self,color=\"red\",price=500000,speed=200):\n",
    "        self.price=price\n",
    "        self.color=color\n",
    "        self.speed=speed\n",
    "\n",
    "# Child Class     \n",
    "class Car(Vehicle):\n",
    "    def __init__(self,tires=2):\n",
    "        self.tires = tires\n",
    "        Vehicle.__init__(self)\n",
    "\n",
    "    def printer_function(self):\n",
    "        print(f\"A {self.color}-colored car with a maximum speed of {self.speed} km/h is priced at {self.price} with {self.tires} tires\") \n",
    "\n",
    "x = Car(tires=6)\n",
    "x.printer_function()\n"
   ]
  },
  {
   "source": [
    "# Task 3"
   ],
   "cell_type": "markdown",
   "metadata": {}
  },
  {
   "cell_type": "code",
   "execution_count": 36,
   "metadata": {},
   "outputs": [
    {
     "output_type": "execute_result",
     "data": {
      "text/plain": [
       "       date\n",
       "0  09-09-05\n",
       "1  11-09-13\n",
       "2  10-09-21"
      ],
      "text/html": "<div>\n<style scoped>\n    .dataframe tbody tr th:only-of-type {\n        vertical-align: middle;\n    }\n\n    .dataframe tbody tr th {\n        vertical-align: top;\n    }\n\n    .dataframe thead th {\n        text-align: right;\n    }\n</style>\n<table border=\"1\" class=\"dataframe\">\n  <thead>\n    <tr style=\"text-align: right;\">\n      <th></th>\n      <th>date</th>\n    </tr>\n  </thead>\n  <tbody>\n    <tr>\n      <th>0</th>\n      <td>09-09-05</td>\n    </tr>\n    <tr>\n      <th>1</th>\n      <td>11-09-13</td>\n    </tr>\n    <tr>\n      <th>2</th>\n      <td>10-09-21</td>\n    </tr>\n  </tbody>\n</table>\n</div>"
     },
     "metadata": {},
     "execution_count": 36
    }
   ],
   "source": [
    "import numpy as np\n",
    "import pandas as pd\n",
    "df = pd.DataFrame()\n",
    "date = ['05Sep2009','13Sep2011','21Sep2010']\n",
    "df[\"date\"]=date\n",
    "df.date = pd.to_datetime(df.date)\n",
    "df.date = df.date.dt.strftime(\"%y-%m-%d\")\n",
    "df"
   ]
  }
 ]
}